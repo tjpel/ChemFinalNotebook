{
 "cells": [
  {
   "cell_type": "code",
   "execution_count": 1,
   "metadata": {},
   "outputs": [],
   "source": [
    "import pandas as pd\n",
    "import plotly.express as px\n",
    "import plotly.graph_objects as go"
   ]
  },
  {
   "cell_type": "code",
   "execution_count": 2,
   "metadata": {},
   "outputs": [],
   "source": [
    "KIO3_MOLARITY = 0.00148\n",
    "VITAMIN_C_RECC_MILLIGRAMS = 82.5"
   ]
  },
  {
   "cell_type": "code",
   "execution_count": 3,
   "metadata": {},
   "outputs": [
    {
     "data": {
      "text/html": [
       "<div>\n",
       "<style scoped>\n",
       "    .dataframe tbody tr th:only-of-type {\n",
       "        vertical-align: middle;\n",
       "    }\n",
       "\n",
       "    .dataframe tbody tr th {\n",
       "        vertical-align: top;\n",
       "    }\n",
       "\n",
       "    .dataframe thead th {\n",
       "        text-align: right;\n",
       "    }\n",
       "</style>\n",
       "<table border=\"1\" class=\"dataframe\">\n",
       "  <thead>\n",
       "    <tr style=\"text-align: right;\">\n",
       "      <th></th>\n",
       "      <th>Sample Units</th>\n",
       "      <th>Volume (mL) / Mass (g) of Sample</th>\n",
       "      <th>KIO3 Titrated (mL)</th>\n",
       "    </tr>\n",
       "  </thead>\n",
       "  <tbody>\n",
       "    <tr>\n",
       "      <th>Cheerios</th>\n",
       "      <td>g</td>\n",
       "      <td>1.4896</td>\n",
       "      <td>8.5</td>\n",
       "    </tr>\n",
       "    <tr>\n",
       "      <th>Red Pepper Juice</th>\n",
       "      <td>mL</td>\n",
       "      <td>10.0000</td>\n",
       "      <td>6.0</td>\n",
       "    </tr>\n",
       "    <tr>\n",
       "      <th>Orange Juice</th>\n",
       "      <td>mL</td>\n",
       "      <td>5.2000</td>\n",
       "      <td>3.5</td>\n",
       "    </tr>\n",
       "    <tr>\n",
       "      <th>Tea</th>\n",
       "      <td>mL</td>\n",
       "      <td>10.0000</td>\n",
       "      <td>0.4</td>\n",
       "    </tr>\n",
       "  </tbody>\n",
       "</table>\n",
       "</div>"
      ],
      "text/plain": [
       "                 Sample Units  Volume (mL) / Mass (g) of Sample  \\\n",
       "Cheerios                    g                            1.4896   \n",
       "Red Pepper Juice           mL                           10.0000   \n",
       "Orange Juice               mL                            5.2000   \n",
       "Tea                        mL                           10.0000   \n",
       "\n",
       "                  KIO3 Titrated (mL)  \n",
       "Cheerios                         8.5  \n",
       "Red Pepper Juice                 6.0  \n",
       "Orange Juice                     3.5  \n",
       "Tea                              0.4  "
      ]
     },
     "execution_count": 3,
     "metadata": {},
     "output_type": "execute_result"
    }
   ],
   "source": [
    "data = {\n",
    "    'Sample': [\"Cheerios\", \"Red Pepper Juice\", \"Orange Juice\", \"Tea\"],\n",
    "    'Sample Units': [\"g\", \"mL\", \"mL\", \"mL\"],\n",
    "    'Volume (mL) / Mass (g) of Sample': [1.4896, 10, 5.2, 10],\n",
    "    'KIO3 Titrated (mL)': [8.5, 6.0, 3.5, 0.4]\n",
    "}\n",
    "\n",
    "df = pd.DataFrame(data=data, index=data[\"Sample\"])\n",
    "df.drop(columns=\"Sample\", inplace=True)\n",
    "df.head()"
   ]
  },
  {
   "cell_type": "code",
   "execution_count": 4,
   "metadata": {},
   "outputs": [],
   "source": [
    "mols_I2_to_mols_KI = (3/5)\n",
    "molar_mass_vit_c = 176.12\n",
    "\n",
    "def determine_mass_of_Vitamin_C(KIO3_titrated_mL: float) -> float:\n",
    "    mols_KIO3 = KIO3_MOLARITY * (KIO3_titrated_mL / 1000)\n",
    "\n",
    "    mass_vit_c = mols_KIO3 * mols_I2_to_mols_KI * molar_mass_vit_c\n",
    "\n",
    "    return mass_vit_c"
   ]
  },
  {
   "cell_type": "code",
   "execution_count": 5,
   "metadata": {},
   "outputs": [
    {
     "data": {
      "text/html": [
       "<div>\n",
       "<style scoped>\n",
       "    .dataframe tbody tr th:only-of-type {\n",
       "        vertical-align: middle;\n",
       "    }\n",
       "\n",
       "    .dataframe tbody tr th {\n",
       "        vertical-align: top;\n",
       "    }\n",
       "\n",
       "    .dataframe thead th {\n",
       "        text-align: right;\n",
       "    }\n",
       "</style>\n",
       "<table border=\"1\" class=\"dataframe\">\n",
       "  <thead>\n",
       "    <tr style=\"text-align: right;\">\n",
       "      <th></th>\n",
       "      <th>Sample Units</th>\n",
       "      <th>Volume (mL) / Mass (g) of Sample</th>\n",
       "      <th>KIO3 Titrated (mL)</th>\n",
       "      <th>Mass Vitamin C (g)</th>\n",
       "      <th>Mass Vitamin C (g) per Sample Unit</th>\n",
       "      <th>Sample Units Needed to Consume Recommendation</th>\n",
       "    </tr>\n",
       "  </thead>\n",
       "  <tbody>\n",
       "    <tr>\n",
       "      <th>Cheerios</th>\n",
       "      <td>g</td>\n",
       "      <td>1.4896</td>\n",
       "      <td>8.5</td>\n",
       "      <td>0.001329</td>\n",
       "      <td>0.000892</td>\n",
       "      <td>92.444918</td>\n",
       "    </tr>\n",
       "    <tr>\n",
       "      <th>Red Pepper Juice</th>\n",
       "      <td>mL</td>\n",
       "      <td>10.0000</td>\n",
       "      <td>6.0</td>\n",
       "      <td>0.000938</td>\n",
       "      <td>0.000094</td>\n",
       "      <td>879.186591</td>\n",
       "    </tr>\n",
       "    <tr>\n",
       "      <th>Orange Juice</th>\n",
       "      <td>mL</td>\n",
       "      <td>5.2000</td>\n",
       "      <td>3.5</td>\n",
       "      <td>0.000547</td>\n",
       "      <td>0.000105</td>\n",
       "      <td>783.732047</td>\n",
       "    </tr>\n",
       "    <tr>\n",
       "      <th>Tea</th>\n",
       "      <td>mL</td>\n",
       "      <td>10.0000</td>\n",
       "      <td>0.4</td>\n",
       "      <td>0.000063</td>\n",
       "      <td>0.000006</td>\n",
       "      <td>13187.798859</td>\n",
       "    </tr>\n",
       "  </tbody>\n",
       "</table>\n",
       "</div>"
      ],
      "text/plain": [
       "                 Sample Units  Volume (mL) / Mass (g) of Sample  \\\n",
       "Cheerios                    g                            1.4896   \n",
       "Red Pepper Juice           mL                           10.0000   \n",
       "Orange Juice               mL                            5.2000   \n",
       "Tea                        mL                           10.0000   \n",
       "\n",
       "                  KIO3 Titrated (mL)  Mass Vitamin C (g)  \\\n",
       "Cheerios                         8.5            0.001329   \n",
       "Red Pepper Juice                 6.0            0.000938   \n",
       "Orange Juice                     3.5            0.000547   \n",
       "Tea                              0.4            0.000063   \n",
       "\n",
       "                  Mass Vitamin C (g) per Sample Unit  \\\n",
       "Cheerios                                    0.000892   \n",
       "Red Pepper Juice                            0.000094   \n",
       "Orange Juice                                0.000105   \n",
       "Tea                                         0.000006   \n",
       "\n",
       "                  Sample Units Needed to Consume Recommendation  \n",
       "Cheerios                                              92.444918  \n",
       "Red Pepper Juice                                     879.186591  \n",
       "Orange Juice                                         783.732047  \n",
       "Tea                                                13187.798859  "
      ]
     },
     "execution_count": 5,
     "metadata": {},
     "output_type": "execute_result"
    }
   ],
   "source": [
    "df[\"Mass Vitamin C (g)\"] = df[\"KIO3 Titrated (mL)\"].apply(lambda x: determine_mass_of_Vitamin_C(x))\n",
    "df[\"Mass Vitamin C (g) per Sample Unit\"] = df[\"Mass Vitamin C (g)\"] / df[\"Volume (mL) / Mass (g) of Sample\"]\n",
    "df[\"Sample Units Needed to Consume Recommendation\"] = (VITAMIN_C_RECC_MILLIGRAMS / 1000) / df[\"Mass Vitamin C (g) per Sample Unit\"]\n",
    "df.to_csv(\"base.csv\")\n",
    "df.head()"
   ]
  },
  {
   "cell_type": "code",
   "execution_count": 6,
   "metadata": {},
   "outputs": [
    {
     "data": {
      "application/vnd.plotly.v1+json": {
       "config": {
        "plotlyServerURL": "https://plot.ly"
       },
       "data": [
        {
         "alignmentgroup": "True",
         "hovertemplate": "color=Cheerios<br>x=%{x}<br>Mass Vitamin C (mg) per Sample Unit=%{y}<extra></extra>",
         "legendgroup": "Cheerios",
         "marker": {
          "color": "#636efa",
          "pattern": {
           "shape": ""
          }
         },
         "name": "Cheerios",
         "offsetgroup": "Cheerios",
         "orientation": "v",
         "showlegend": true,
         "textposition": "auto",
         "type": "bar",
         "x": [
          "Cheerios"
         ],
         "xaxis": "x",
         "y": [
          0.8924233082706767
         ],
         "yaxis": "y"
        },
        {
         "alignmentgroup": "True",
         "hovertemplate": "color=Red Pepper Juice<br>x=%{x}<br>Mass Vitamin C (mg) per Sample Unit=%{y}<extra></extra>",
         "legendgroup": "Red Pepper Juice",
         "marker": {
          "color": "#EF553B",
          "pattern": {
           "shape": ""
          }
         },
         "name": "Red Pepper Juice",
         "offsetgroup": "Red Pepper Juice",
         "orientation": "v",
         "showlegend": true,
         "textposition": "auto",
         "type": "bar",
         "x": [
          "Red Pepper Juice"
         ],
         "xaxis": "x",
         "y": [
          0.10526556923076924
         ],
         "yaxis": "y"
        },
        {
         "alignmentgroup": "True",
         "hovertemplate": "color=Orange Juice<br>x=%{x}<br>Mass Vitamin C (mg) per Sample Unit=%{y}<extra></extra>",
         "legendgroup": "Orange Juice",
         "marker": {
          "color": "#00cc96",
          "pattern": {
           "shape": ""
          }
         },
         "name": "Orange Juice",
         "offsetgroup": "Orange Juice",
         "orientation": "v",
         "showlegend": true,
         "textposition": "auto",
         "type": "bar",
         "x": [
          "Orange Juice"
         ],
         "xaxis": "x",
         "y": [
          0.09383673599999999
         ],
         "yaxis": "y"
        },
        {
         "alignmentgroup": "True",
         "hovertemplate": "color=Tea<br>x=%{x}<br>Mass Vitamin C (mg) per Sample Unit=%{y}<extra></extra>",
         "legendgroup": "Tea",
         "marker": {
          "color": "#ab63fa",
          "pattern": {
           "shape": ""
          }
         },
         "name": "Tea",
         "offsetgroup": "Tea",
         "orientation": "v",
         "showlegend": true,
         "textposition": "auto",
         "type": "bar",
         "x": [
          "Tea"
         ],
         "xaxis": "x",
         "y": [
          0.006255782400000001
         ],
         "yaxis": "y"
        }
       ],
       "layout": {
        "barmode": "relative",
        "height": 750,
        "legend": {
         "title": {
          "text": "color"
         },
         "tracegroupgap": 0
        },
        "margin": {
         "t": 60
        },
        "showlegend": false,
        "template": {
         "data": {
          "bar": [
           {
            "error_x": {
             "color": "#2a3f5f"
            },
            "error_y": {
             "color": "#2a3f5f"
            },
            "marker": {
             "line": {
              "color": "#E5ECF6",
              "width": 0.5
             },
             "pattern": {
              "fillmode": "overlay",
              "size": 10,
              "solidity": 0.2
             }
            },
            "type": "bar"
           }
          ],
          "barpolar": [
           {
            "marker": {
             "line": {
              "color": "#E5ECF6",
              "width": 0.5
             },
             "pattern": {
              "fillmode": "overlay",
              "size": 10,
              "solidity": 0.2
             }
            },
            "type": "barpolar"
           }
          ],
          "carpet": [
           {
            "aaxis": {
             "endlinecolor": "#2a3f5f",
             "gridcolor": "white",
             "linecolor": "white",
             "minorgridcolor": "white",
             "startlinecolor": "#2a3f5f"
            },
            "baxis": {
             "endlinecolor": "#2a3f5f",
             "gridcolor": "white",
             "linecolor": "white",
             "minorgridcolor": "white",
             "startlinecolor": "#2a3f5f"
            },
            "type": "carpet"
           }
          ],
          "choropleth": [
           {
            "colorbar": {
             "outlinewidth": 0,
             "ticks": ""
            },
            "type": "choropleth"
           }
          ],
          "contour": [
           {
            "colorbar": {
             "outlinewidth": 0,
             "ticks": ""
            },
            "colorscale": [
             [
              0,
              "#0d0887"
             ],
             [
              0.1111111111111111,
              "#46039f"
             ],
             [
              0.2222222222222222,
              "#7201a8"
             ],
             [
              0.3333333333333333,
              "#9c179e"
             ],
             [
              0.4444444444444444,
              "#bd3786"
             ],
             [
              0.5555555555555556,
              "#d8576b"
             ],
             [
              0.6666666666666666,
              "#ed7953"
             ],
             [
              0.7777777777777778,
              "#fb9f3a"
             ],
             [
              0.8888888888888888,
              "#fdca26"
             ],
             [
              1,
              "#f0f921"
             ]
            ],
            "type": "contour"
           }
          ],
          "contourcarpet": [
           {
            "colorbar": {
             "outlinewidth": 0,
             "ticks": ""
            },
            "type": "contourcarpet"
           }
          ],
          "heatmap": [
           {
            "colorbar": {
             "outlinewidth": 0,
             "ticks": ""
            },
            "colorscale": [
             [
              0,
              "#0d0887"
             ],
             [
              0.1111111111111111,
              "#46039f"
             ],
             [
              0.2222222222222222,
              "#7201a8"
             ],
             [
              0.3333333333333333,
              "#9c179e"
             ],
             [
              0.4444444444444444,
              "#bd3786"
             ],
             [
              0.5555555555555556,
              "#d8576b"
             ],
             [
              0.6666666666666666,
              "#ed7953"
             ],
             [
              0.7777777777777778,
              "#fb9f3a"
             ],
             [
              0.8888888888888888,
              "#fdca26"
             ],
             [
              1,
              "#f0f921"
             ]
            ],
            "type": "heatmap"
           }
          ],
          "heatmapgl": [
           {
            "colorbar": {
             "outlinewidth": 0,
             "ticks": ""
            },
            "colorscale": [
             [
              0,
              "#0d0887"
             ],
             [
              0.1111111111111111,
              "#46039f"
             ],
             [
              0.2222222222222222,
              "#7201a8"
             ],
             [
              0.3333333333333333,
              "#9c179e"
             ],
             [
              0.4444444444444444,
              "#bd3786"
             ],
             [
              0.5555555555555556,
              "#d8576b"
             ],
             [
              0.6666666666666666,
              "#ed7953"
             ],
             [
              0.7777777777777778,
              "#fb9f3a"
             ],
             [
              0.8888888888888888,
              "#fdca26"
             ],
             [
              1,
              "#f0f921"
             ]
            ],
            "type": "heatmapgl"
           }
          ],
          "histogram": [
           {
            "marker": {
             "pattern": {
              "fillmode": "overlay",
              "size": 10,
              "solidity": 0.2
             }
            },
            "type": "histogram"
           }
          ],
          "histogram2d": [
           {
            "colorbar": {
             "outlinewidth": 0,
             "ticks": ""
            },
            "colorscale": [
             [
              0,
              "#0d0887"
             ],
             [
              0.1111111111111111,
              "#46039f"
             ],
             [
              0.2222222222222222,
              "#7201a8"
             ],
             [
              0.3333333333333333,
              "#9c179e"
             ],
             [
              0.4444444444444444,
              "#bd3786"
             ],
             [
              0.5555555555555556,
              "#d8576b"
             ],
             [
              0.6666666666666666,
              "#ed7953"
             ],
             [
              0.7777777777777778,
              "#fb9f3a"
             ],
             [
              0.8888888888888888,
              "#fdca26"
             ],
             [
              1,
              "#f0f921"
             ]
            ],
            "type": "histogram2d"
           }
          ],
          "histogram2dcontour": [
           {
            "colorbar": {
             "outlinewidth": 0,
             "ticks": ""
            },
            "colorscale": [
             [
              0,
              "#0d0887"
             ],
             [
              0.1111111111111111,
              "#46039f"
             ],
             [
              0.2222222222222222,
              "#7201a8"
             ],
             [
              0.3333333333333333,
              "#9c179e"
             ],
             [
              0.4444444444444444,
              "#bd3786"
             ],
             [
              0.5555555555555556,
              "#d8576b"
             ],
             [
              0.6666666666666666,
              "#ed7953"
             ],
             [
              0.7777777777777778,
              "#fb9f3a"
             ],
             [
              0.8888888888888888,
              "#fdca26"
             ],
             [
              1,
              "#f0f921"
             ]
            ],
            "type": "histogram2dcontour"
           }
          ],
          "mesh3d": [
           {
            "colorbar": {
             "outlinewidth": 0,
             "ticks": ""
            },
            "type": "mesh3d"
           }
          ],
          "parcoords": [
           {
            "line": {
             "colorbar": {
              "outlinewidth": 0,
              "ticks": ""
             }
            },
            "type": "parcoords"
           }
          ],
          "pie": [
           {
            "automargin": true,
            "type": "pie"
           }
          ],
          "scatter": [
           {
            "fillpattern": {
             "fillmode": "overlay",
             "size": 10,
             "solidity": 0.2
            },
            "type": "scatter"
           }
          ],
          "scatter3d": [
           {
            "line": {
             "colorbar": {
              "outlinewidth": 0,
              "ticks": ""
             }
            },
            "marker": {
             "colorbar": {
              "outlinewidth": 0,
              "ticks": ""
             }
            },
            "type": "scatter3d"
           }
          ],
          "scattercarpet": [
           {
            "marker": {
             "colorbar": {
              "outlinewidth": 0,
              "ticks": ""
             }
            },
            "type": "scattercarpet"
           }
          ],
          "scattergeo": [
           {
            "marker": {
             "colorbar": {
              "outlinewidth": 0,
              "ticks": ""
             }
            },
            "type": "scattergeo"
           }
          ],
          "scattergl": [
           {
            "marker": {
             "colorbar": {
              "outlinewidth": 0,
              "ticks": ""
             }
            },
            "type": "scattergl"
           }
          ],
          "scattermapbox": [
           {
            "marker": {
             "colorbar": {
              "outlinewidth": 0,
              "ticks": ""
             }
            },
            "type": "scattermapbox"
           }
          ],
          "scatterpolar": [
           {
            "marker": {
             "colorbar": {
              "outlinewidth": 0,
              "ticks": ""
             }
            },
            "type": "scatterpolar"
           }
          ],
          "scatterpolargl": [
           {
            "marker": {
             "colorbar": {
              "outlinewidth": 0,
              "ticks": ""
             }
            },
            "type": "scatterpolargl"
           }
          ],
          "scatterternary": [
           {
            "marker": {
             "colorbar": {
              "outlinewidth": 0,
              "ticks": ""
             }
            },
            "type": "scatterternary"
           }
          ],
          "surface": [
           {
            "colorbar": {
             "outlinewidth": 0,
             "ticks": ""
            },
            "colorscale": [
             [
              0,
              "#0d0887"
             ],
             [
              0.1111111111111111,
              "#46039f"
             ],
             [
              0.2222222222222222,
              "#7201a8"
             ],
             [
              0.3333333333333333,
              "#9c179e"
             ],
             [
              0.4444444444444444,
              "#bd3786"
             ],
             [
              0.5555555555555556,
              "#d8576b"
             ],
             [
              0.6666666666666666,
              "#ed7953"
             ],
             [
              0.7777777777777778,
              "#fb9f3a"
             ],
             [
              0.8888888888888888,
              "#fdca26"
             ],
             [
              1,
              "#f0f921"
             ]
            ],
            "type": "surface"
           }
          ],
          "table": [
           {
            "cells": {
             "fill": {
              "color": "#EBF0F8"
             },
             "line": {
              "color": "white"
             }
            },
            "header": {
             "fill": {
              "color": "#C8D4E3"
             },
             "line": {
              "color": "white"
             }
            },
            "type": "table"
           }
          ]
         },
         "layout": {
          "annotationdefaults": {
           "arrowcolor": "#2a3f5f",
           "arrowhead": 0,
           "arrowwidth": 1
          },
          "autotypenumbers": "strict",
          "coloraxis": {
           "colorbar": {
            "outlinewidth": 0,
            "ticks": ""
           }
          },
          "colorscale": {
           "diverging": [
            [
             0,
             "#8e0152"
            ],
            [
             0.1,
             "#c51b7d"
            ],
            [
             0.2,
             "#de77ae"
            ],
            [
             0.3,
             "#f1b6da"
            ],
            [
             0.4,
             "#fde0ef"
            ],
            [
             0.5,
             "#f7f7f7"
            ],
            [
             0.6,
             "#e6f5d0"
            ],
            [
             0.7,
             "#b8e186"
            ],
            [
             0.8,
             "#7fbc41"
            ],
            [
             0.9,
             "#4d9221"
            ],
            [
             1,
             "#276419"
            ]
           ],
           "sequential": [
            [
             0,
             "#0d0887"
            ],
            [
             0.1111111111111111,
             "#46039f"
            ],
            [
             0.2222222222222222,
             "#7201a8"
            ],
            [
             0.3333333333333333,
             "#9c179e"
            ],
            [
             0.4444444444444444,
             "#bd3786"
            ],
            [
             0.5555555555555556,
             "#d8576b"
            ],
            [
             0.6666666666666666,
             "#ed7953"
            ],
            [
             0.7777777777777778,
             "#fb9f3a"
            ],
            [
             0.8888888888888888,
             "#fdca26"
            ],
            [
             1,
             "#f0f921"
            ]
           ],
           "sequentialminus": [
            [
             0,
             "#0d0887"
            ],
            [
             0.1111111111111111,
             "#46039f"
            ],
            [
             0.2222222222222222,
             "#7201a8"
            ],
            [
             0.3333333333333333,
             "#9c179e"
            ],
            [
             0.4444444444444444,
             "#bd3786"
            ],
            [
             0.5555555555555556,
             "#d8576b"
            ],
            [
             0.6666666666666666,
             "#ed7953"
            ],
            [
             0.7777777777777778,
             "#fb9f3a"
            ],
            [
             0.8888888888888888,
             "#fdca26"
            ],
            [
             1,
             "#f0f921"
            ]
           ]
          },
          "colorway": [
           "#636efa",
           "#EF553B",
           "#00cc96",
           "#ab63fa",
           "#FFA15A",
           "#19d3f3",
           "#FF6692",
           "#B6E880",
           "#FF97FF",
           "#FECB52"
          ],
          "font": {
           "color": "#2a3f5f"
          },
          "geo": {
           "bgcolor": "white",
           "lakecolor": "white",
           "landcolor": "#E5ECF6",
           "showlakes": true,
           "showland": true,
           "subunitcolor": "white"
          },
          "hoverlabel": {
           "align": "left"
          },
          "hovermode": "closest",
          "mapbox": {
           "style": "light"
          },
          "paper_bgcolor": "white",
          "plot_bgcolor": "#E5ECF6",
          "polar": {
           "angularaxis": {
            "gridcolor": "white",
            "linecolor": "white",
            "ticks": ""
           },
           "bgcolor": "#E5ECF6",
           "radialaxis": {
            "gridcolor": "white",
            "linecolor": "white",
            "ticks": ""
           }
          },
          "scene": {
           "xaxis": {
            "backgroundcolor": "#E5ECF6",
            "gridcolor": "white",
            "gridwidth": 2,
            "linecolor": "white",
            "showbackground": true,
            "ticks": "",
            "zerolinecolor": "white"
           },
           "yaxis": {
            "backgroundcolor": "#E5ECF6",
            "gridcolor": "white",
            "gridwidth": 2,
            "linecolor": "white",
            "showbackground": true,
            "ticks": "",
            "zerolinecolor": "white"
           },
           "zaxis": {
            "backgroundcolor": "#E5ECF6",
            "gridcolor": "white",
            "gridwidth": 2,
            "linecolor": "white",
            "showbackground": true,
            "ticks": "",
            "zerolinecolor": "white"
           }
          },
          "shapedefaults": {
           "line": {
            "color": "#2a3f5f"
           }
          },
          "ternary": {
           "aaxis": {
            "gridcolor": "white",
            "linecolor": "white",
            "ticks": ""
           },
           "baxis": {
            "gridcolor": "white",
            "linecolor": "white",
            "ticks": ""
           },
           "bgcolor": "#E5ECF6",
           "caxis": {
            "gridcolor": "white",
            "linecolor": "white",
            "ticks": ""
           }
          },
          "title": {
           "x": 0.05
          },
          "xaxis": {
           "automargin": true,
           "gridcolor": "white",
           "linecolor": "white",
           "ticks": "",
           "title": {
            "standoff": 15
           },
           "zerolinecolor": "white",
           "zerolinewidth": 2
          },
          "yaxis": {
           "automargin": true,
           "gridcolor": "white",
           "linecolor": "white",
           "ticks": "",
           "title": {
            "standoff": 15
           },
           "zerolinecolor": "white",
           "zerolinewidth": 2
          }
         }
        },
        "title": {
         "text": "Comparison of Vitamin C Content in Various Food Types"
        },
        "width": 1000,
        "xaxis": {
         "anchor": "y",
         "domain": [
          0,
          1
         ],
         "title": {
          "text": "Samples"
         }
        },
        "yaxis": {
         "anchor": "x",
         "domain": [
          0,
          1
         ],
         "title": {
          "text": "Observed Mass Vitamin C (mg) per Sample Unit (Log<sub>10</sub> Scale)"
         },
         "type": "log"
        }
       }
      }
     },
     "metadata": {},
     "output_type": "display_data"
    }
   ],
   "source": [
    "df_fig1 = df.sort_values(by=\"Mass Vitamin C (g) per Sample Unit\", ascending=False)\n",
    "df_fig1[\"Mass Vitamin C (mg) per Sample Unit\"] = df_fig1[\"Mass Vitamin C (g) per Sample Unit\"] * 1000\n",
    "\n",
    "fig = px.bar(\n",
    "    df_fig1,\n",
    "    x = df.index,\n",
    "    y = \"Mass Vitamin C (mg) per Sample Unit\",\n",
    "    color = df.index,\n",
    "    log_y=True\n",
    ")\n",
    "\n",
    "fig.update_layout(\n",
    "    height=750,\n",
    "    width=1000,\n",
    "    title=\"Comparison of Vitamin C Content in Various Food Types\",\n",
    "    xaxis_title=\"Samples\",\n",
    "    yaxis_title=\"Observed Mass Vitamin C (mg) per Sample Unit (Log<sub>10</sub> Scale)\",\n",
    "    showlegend=False\n",
    ")\n",
    "\n",
    "fig"
   ]
  },
  {
   "cell_type": "code",
   "execution_count": 7,
   "metadata": {},
   "outputs": [
    {
     "data": {
      "text/html": [
       "<div>\n",
       "<style scoped>\n",
       "    .dataframe tbody tr th:only-of-type {\n",
       "        vertical-align: middle;\n",
       "    }\n",
       "\n",
       "    .dataframe tbody tr th {\n",
       "        vertical-align: top;\n",
       "    }\n",
       "\n",
       "    .dataframe thead th {\n",
       "        text-align: right;\n",
       "    }\n",
       "</style>\n",
       "<table border=\"1\" class=\"dataframe\">\n",
       "  <thead>\n",
       "    <tr style=\"text-align: right;\">\n",
       "      <th></th>\n",
       "      <th>Sample Units</th>\n",
       "      <th>Volume (mL) / Mass (g) of Sample</th>\n",
       "      <th>KIO3 Titrated (mL)</th>\n",
       "      <th>Mass Vitamin C (g)</th>\n",
       "      <th>Mass Vitamin C (g) per Sample Unit</th>\n",
       "      <th>Sample Units Needed to Consume Recommendation</th>\n",
       "      <th>Reported Vitamin C (g) Per Sample Unit</th>\n",
       "    </tr>\n",
       "  </thead>\n",
       "  <tbody>\n",
       "    <tr>\n",
       "      <th>Cheerios</th>\n",
       "      <td>g</td>\n",
       "      <td>1.4896</td>\n",
       "      <td>8.5</td>\n",
       "      <td>0.001329</td>\n",
       "      <td>0.000892</td>\n",
       "      <td>92.444918</td>\n",
       "      <td>0.000212</td>\n",
       "    </tr>\n",
       "    <tr>\n",
       "      <th>Red Pepper Juice</th>\n",
       "      <td>mL</td>\n",
       "      <td>10.0000</td>\n",
       "      <td>6.0</td>\n",
       "      <td>0.000938</td>\n",
       "      <td>0.000094</td>\n",
       "      <td>879.186591</td>\n",
       "      <td>0.000063</td>\n",
       "    </tr>\n",
       "    <tr>\n",
       "      <th>Orange Juice</th>\n",
       "      <td>mL</td>\n",
       "      <td>5.2000</td>\n",
       "      <td>3.5</td>\n",
       "      <td>0.000547</td>\n",
       "      <td>0.000105</td>\n",
       "      <td>783.732047</td>\n",
       "      <td>0.000500</td>\n",
       "    </tr>\n",
       "    <tr>\n",
       "      <th>Tea</th>\n",
       "      <td>mL</td>\n",
       "      <td>10.0000</td>\n",
       "      <td>0.4</td>\n",
       "      <td>0.000063</td>\n",
       "      <td>0.000006</td>\n",
       "      <td>13187.798859</td>\n",
       "      <td>0.000000</td>\n",
       "    </tr>\n",
       "  </tbody>\n",
       "</table>\n",
       "</div>"
      ],
      "text/plain": [
       "                 Sample Units  Volume (mL) / Mass (g) of Sample  \\\n",
       "Cheerios                    g                            1.4896   \n",
       "Red Pepper Juice           mL                           10.0000   \n",
       "Orange Juice               mL                            5.2000   \n",
       "Tea                        mL                           10.0000   \n",
       "\n",
       "                  KIO3 Titrated (mL)  Mass Vitamin C (g)  \\\n",
       "Cheerios                         8.5            0.001329   \n",
       "Red Pepper Juice                 6.0            0.000938   \n",
       "Orange Juice                     3.5            0.000547   \n",
       "Tea                              0.4            0.000063   \n",
       "\n",
       "                  Mass Vitamin C (g) per Sample Unit  \\\n",
       "Cheerios                                    0.000892   \n",
       "Red Pepper Juice                            0.000094   \n",
       "Orange Juice                                0.000105   \n",
       "Tea                                         0.000006   \n",
       "\n",
       "                  Sample Units Needed to Consume Recommendation  \\\n",
       "Cheerios                                              92.444918   \n",
       "Red Pepper Juice                                     879.186591   \n",
       "Orange Juice                                         783.732047   \n",
       "Tea                                                13187.798859   \n",
       "\n",
       "                  Reported Vitamin C (g) Per Sample Unit  \n",
       "Cheerios                                        0.000212  \n",
       "Red Pepper Juice                                0.000063  \n",
       "Orange Juice                                    0.000500  \n",
       "Tea                                             0.000000  "
      ]
     },
     "execution_count": 7,
     "metadata": {},
     "output_type": "execute_result"
    }
   ],
   "source": [
    "df[\"Reported Vitamin C (g) Per Sample Unit\"] = [\n",
    "    ((VITAMIN_C_RECC_MILLIGRAMS * 0.1) / 39) / 1000, #https://www.cheerios.com/products/original-cheerios\n",
    "    (15 / 240) / 1000, #https://www.carbmanager.com/food-detail/md:2172b3032605265c2ae66438d08a25de/tomato-red-bell-pepper-juice\n",
    "    (50 / 100) / 1000, #https://fdc.nal.usda.gov/food-details/169098/nutrients\n",
    "    0 #https://fdc.nal.usda.gov/food-details/174873/nutrients\n",
    "]\n",
    "df.head()"
   ]
  },
  {
   "cell_type": "code",
   "execution_count": 8,
   "metadata": {},
   "outputs": [
    {
     "data": {
      "application/vnd.plotly.v1+json": {
       "config": {
        "plotlyServerURL": "https://plot.ly"
       },
       "data": [
        {
         "hovertemplate": "x=%{x}<br>y=%{y}<extra></extra>",
         "legendgroup": "",
         "marker": {
          "color": "#636efa",
          "symbol": "circle"
         },
         "mode": "markers",
         "name": "",
         "orientation": "v",
         "showlegend": false,
         "type": "scatter",
         "x": [
          0.8924233082706767,
          0.09383673599999999,
          0.10526556923076924,
          0.006255782400000001
         ],
         "xaxis": "x",
         "y": [
          0.21153846153846154,
          0.0625,
          0.5,
          0
         ],
         "yaxis": "y"
        },
        {
         "mode": "text",
         "text": [
          "-0.681"
         ],
         "textfont": {
          "color": "red",
          "size": 10
         },
         "textposition": "middle right",
         "type": "scatter",
         "x": [
          0.8924233082706767
         ],
         "y": [
          0.5519808849045691
         ]
        },
        {
         "mode": "text",
         "text": [
          "-0.031"
         ],
         "textfont": {
          "color": "red",
          "size": 10
         },
         "textposition": "middle right",
         "type": "scatter",
         "x": [
          0.09383673599999999
         ],
         "y": [
          0.07816836799999999
         ]
        },
        {
         "mode": "text",
         "text": [
          "0.395"
         ],
         "textfont": {
          "color": "red",
          "size": 10
         },
         "textposition": "middle right",
         "type": "scatter",
         "x": [
          0.10526556923076924
         ],
         "y": [
          0.3026327846153846
         ]
        },
        {
         "mode": "text",
         "text": [
          "-0.006"
         ],
         "textfont": {
          "color": "red",
          "size": 10
         },
         "textposition": "middle right",
         "type": "scatter",
         "x": [
          0.006255782400000001
         ],
         "y": [
          0.0031278912000000003
         ]
        }
       ],
       "layout": {
        "annotations": [
         {
          "align": "center",
          "font": {
           "color": "red",
           "size": 12
          },
          "showarrow": false,
          "text": "y=x",
          "textangle": -40,
          "x": 0.475,
          "y": 0.5
         }
        ],
        "height": 600,
        "legend": {
         "tracegroupgap": 0
        },
        "margin": {
         "t": 60
        },
        "shapes": [
         {
          "line": {
           "color": "red",
           "width": 2
          },
          "type": "line",
          "x0": 0,
          "x1": 1,
          "y0": 0,
          "y1": 1
         },
         {
          "line": {
           "color": "red",
           "dash": "dot",
           "width": 1
          },
          "type": "line",
          "x0": 0.8924233082706767,
          "x1": 0.8924233082706767,
          "y0": 0.8924233082706767,
          "y1": 0.21153846153846154
         },
         {
          "line": {
           "color": "red",
           "dash": "dot",
           "width": 1
          },
          "type": "line",
          "x0": 0.09383673599999999,
          "x1": 0.09383673599999999,
          "y0": 0.09383673599999999,
          "y1": 0.0625
         },
         {
          "line": {
           "color": "red",
           "dash": "dot",
           "width": 1
          },
          "type": "line",
          "x0": 0.10526556923076924,
          "x1": 0.10526556923076924,
          "y0": 0.10526556923076924,
          "y1": 0.5
         },
         {
          "line": {
           "color": "red",
           "dash": "dot",
           "width": 1
          },
          "type": "line",
          "x0": 0.006255782400000001,
          "x1": 0.006255782400000001,
          "y0": 0.006255782400000001,
          "y1": 0
         }
        ],
        "showlegend": false,
        "template": {
         "data": {
          "bar": [
           {
            "error_x": {
             "color": "#2a3f5f"
            },
            "error_y": {
             "color": "#2a3f5f"
            },
            "marker": {
             "line": {
              "color": "#E5ECF6",
              "width": 0.5
             },
             "pattern": {
              "fillmode": "overlay",
              "size": 10,
              "solidity": 0.2
             }
            },
            "type": "bar"
           }
          ],
          "barpolar": [
           {
            "marker": {
             "line": {
              "color": "#E5ECF6",
              "width": 0.5
             },
             "pattern": {
              "fillmode": "overlay",
              "size": 10,
              "solidity": 0.2
             }
            },
            "type": "barpolar"
           }
          ],
          "carpet": [
           {
            "aaxis": {
             "endlinecolor": "#2a3f5f",
             "gridcolor": "white",
             "linecolor": "white",
             "minorgridcolor": "white",
             "startlinecolor": "#2a3f5f"
            },
            "baxis": {
             "endlinecolor": "#2a3f5f",
             "gridcolor": "white",
             "linecolor": "white",
             "minorgridcolor": "white",
             "startlinecolor": "#2a3f5f"
            },
            "type": "carpet"
           }
          ],
          "choropleth": [
           {
            "colorbar": {
             "outlinewidth": 0,
             "ticks": ""
            },
            "type": "choropleth"
           }
          ],
          "contour": [
           {
            "colorbar": {
             "outlinewidth": 0,
             "ticks": ""
            },
            "colorscale": [
             [
              0,
              "#0d0887"
             ],
             [
              0.1111111111111111,
              "#46039f"
             ],
             [
              0.2222222222222222,
              "#7201a8"
             ],
             [
              0.3333333333333333,
              "#9c179e"
             ],
             [
              0.4444444444444444,
              "#bd3786"
             ],
             [
              0.5555555555555556,
              "#d8576b"
             ],
             [
              0.6666666666666666,
              "#ed7953"
             ],
             [
              0.7777777777777778,
              "#fb9f3a"
             ],
             [
              0.8888888888888888,
              "#fdca26"
             ],
             [
              1,
              "#f0f921"
             ]
            ],
            "type": "contour"
           }
          ],
          "contourcarpet": [
           {
            "colorbar": {
             "outlinewidth": 0,
             "ticks": ""
            },
            "type": "contourcarpet"
           }
          ],
          "heatmap": [
           {
            "colorbar": {
             "outlinewidth": 0,
             "ticks": ""
            },
            "colorscale": [
             [
              0,
              "#0d0887"
             ],
             [
              0.1111111111111111,
              "#46039f"
             ],
             [
              0.2222222222222222,
              "#7201a8"
             ],
             [
              0.3333333333333333,
              "#9c179e"
             ],
             [
              0.4444444444444444,
              "#bd3786"
             ],
             [
              0.5555555555555556,
              "#d8576b"
             ],
             [
              0.6666666666666666,
              "#ed7953"
             ],
             [
              0.7777777777777778,
              "#fb9f3a"
             ],
             [
              0.8888888888888888,
              "#fdca26"
             ],
             [
              1,
              "#f0f921"
             ]
            ],
            "type": "heatmap"
           }
          ],
          "heatmapgl": [
           {
            "colorbar": {
             "outlinewidth": 0,
             "ticks": ""
            },
            "colorscale": [
             [
              0,
              "#0d0887"
             ],
             [
              0.1111111111111111,
              "#46039f"
             ],
             [
              0.2222222222222222,
              "#7201a8"
             ],
             [
              0.3333333333333333,
              "#9c179e"
             ],
             [
              0.4444444444444444,
              "#bd3786"
             ],
             [
              0.5555555555555556,
              "#d8576b"
             ],
             [
              0.6666666666666666,
              "#ed7953"
             ],
             [
              0.7777777777777778,
              "#fb9f3a"
             ],
             [
              0.8888888888888888,
              "#fdca26"
             ],
             [
              1,
              "#f0f921"
             ]
            ],
            "type": "heatmapgl"
           }
          ],
          "histogram": [
           {
            "marker": {
             "pattern": {
              "fillmode": "overlay",
              "size": 10,
              "solidity": 0.2
             }
            },
            "type": "histogram"
           }
          ],
          "histogram2d": [
           {
            "colorbar": {
             "outlinewidth": 0,
             "ticks": ""
            },
            "colorscale": [
             [
              0,
              "#0d0887"
             ],
             [
              0.1111111111111111,
              "#46039f"
             ],
             [
              0.2222222222222222,
              "#7201a8"
             ],
             [
              0.3333333333333333,
              "#9c179e"
             ],
             [
              0.4444444444444444,
              "#bd3786"
             ],
             [
              0.5555555555555556,
              "#d8576b"
             ],
             [
              0.6666666666666666,
              "#ed7953"
             ],
             [
              0.7777777777777778,
              "#fb9f3a"
             ],
             [
              0.8888888888888888,
              "#fdca26"
             ],
             [
              1,
              "#f0f921"
             ]
            ],
            "type": "histogram2d"
           }
          ],
          "histogram2dcontour": [
           {
            "colorbar": {
             "outlinewidth": 0,
             "ticks": ""
            },
            "colorscale": [
             [
              0,
              "#0d0887"
             ],
             [
              0.1111111111111111,
              "#46039f"
             ],
             [
              0.2222222222222222,
              "#7201a8"
             ],
             [
              0.3333333333333333,
              "#9c179e"
             ],
             [
              0.4444444444444444,
              "#bd3786"
             ],
             [
              0.5555555555555556,
              "#d8576b"
             ],
             [
              0.6666666666666666,
              "#ed7953"
             ],
             [
              0.7777777777777778,
              "#fb9f3a"
             ],
             [
              0.8888888888888888,
              "#fdca26"
             ],
             [
              1,
              "#f0f921"
             ]
            ],
            "type": "histogram2dcontour"
           }
          ],
          "mesh3d": [
           {
            "colorbar": {
             "outlinewidth": 0,
             "ticks": ""
            },
            "type": "mesh3d"
           }
          ],
          "parcoords": [
           {
            "line": {
             "colorbar": {
              "outlinewidth": 0,
              "ticks": ""
             }
            },
            "type": "parcoords"
           }
          ],
          "pie": [
           {
            "automargin": true,
            "type": "pie"
           }
          ],
          "scatter": [
           {
            "fillpattern": {
             "fillmode": "overlay",
             "size": 10,
             "solidity": 0.2
            },
            "type": "scatter"
           }
          ],
          "scatter3d": [
           {
            "line": {
             "colorbar": {
              "outlinewidth": 0,
              "ticks": ""
             }
            },
            "marker": {
             "colorbar": {
              "outlinewidth": 0,
              "ticks": ""
             }
            },
            "type": "scatter3d"
           }
          ],
          "scattercarpet": [
           {
            "marker": {
             "colorbar": {
              "outlinewidth": 0,
              "ticks": ""
             }
            },
            "type": "scattercarpet"
           }
          ],
          "scattergeo": [
           {
            "marker": {
             "colorbar": {
              "outlinewidth": 0,
              "ticks": ""
             }
            },
            "type": "scattergeo"
           }
          ],
          "scattergl": [
           {
            "marker": {
             "colorbar": {
              "outlinewidth": 0,
              "ticks": ""
             }
            },
            "type": "scattergl"
           }
          ],
          "scattermapbox": [
           {
            "marker": {
             "colorbar": {
              "outlinewidth": 0,
              "ticks": ""
             }
            },
            "type": "scattermapbox"
           }
          ],
          "scatterpolar": [
           {
            "marker": {
             "colorbar": {
              "outlinewidth": 0,
              "ticks": ""
             }
            },
            "type": "scatterpolar"
           }
          ],
          "scatterpolargl": [
           {
            "marker": {
             "colorbar": {
              "outlinewidth": 0,
              "ticks": ""
             }
            },
            "type": "scatterpolargl"
           }
          ],
          "scatterternary": [
           {
            "marker": {
             "colorbar": {
              "outlinewidth": 0,
              "ticks": ""
             }
            },
            "type": "scatterternary"
           }
          ],
          "surface": [
           {
            "colorbar": {
             "outlinewidth": 0,
             "ticks": ""
            },
            "colorscale": [
             [
              0,
              "#0d0887"
             ],
             [
              0.1111111111111111,
              "#46039f"
             ],
             [
              0.2222222222222222,
              "#7201a8"
             ],
             [
              0.3333333333333333,
              "#9c179e"
             ],
             [
              0.4444444444444444,
              "#bd3786"
             ],
             [
              0.5555555555555556,
              "#d8576b"
             ],
             [
              0.6666666666666666,
              "#ed7953"
             ],
             [
              0.7777777777777778,
              "#fb9f3a"
             ],
             [
              0.8888888888888888,
              "#fdca26"
             ],
             [
              1,
              "#f0f921"
             ]
            ],
            "type": "surface"
           }
          ],
          "table": [
           {
            "cells": {
             "fill": {
              "color": "#EBF0F8"
             },
             "line": {
              "color": "white"
             }
            },
            "header": {
             "fill": {
              "color": "#C8D4E3"
             },
             "line": {
              "color": "white"
             }
            },
            "type": "table"
           }
          ]
         },
         "layout": {
          "annotationdefaults": {
           "arrowcolor": "#2a3f5f",
           "arrowhead": 0,
           "arrowwidth": 1
          },
          "autotypenumbers": "strict",
          "coloraxis": {
           "colorbar": {
            "outlinewidth": 0,
            "ticks": ""
           }
          },
          "colorscale": {
           "diverging": [
            [
             0,
             "#8e0152"
            ],
            [
             0.1,
             "#c51b7d"
            ],
            [
             0.2,
             "#de77ae"
            ],
            [
             0.3,
             "#f1b6da"
            ],
            [
             0.4,
             "#fde0ef"
            ],
            [
             0.5,
             "#f7f7f7"
            ],
            [
             0.6,
             "#e6f5d0"
            ],
            [
             0.7,
             "#b8e186"
            ],
            [
             0.8,
             "#7fbc41"
            ],
            [
             0.9,
             "#4d9221"
            ],
            [
             1,
             "#276419"
            ]
           ],
           "sequential": [
            [
             0,
             "#0d0887"
            ],
            [
             0.1111111111111111,
             "#46039f"
            ],
            [
             0.2222222222222222,
             "#7201a8"
            ],
            [
             0.3333333333333333,
             "#9c179e"
            ],
            [
             0.4444444444444444,
             "#bd3786"
            ],
            [
             0.5555555555555556,
             "#d8576b"
            ],
            [
             0.6666666666666666,
             "#ed7953"
            ],
            [
             0.7777777777777778,
             "#fb9f3a"
            ],
            [
             0.8888888888888888,
             "#fdca26"
            ],
            [
             1,
             "#f0f921"
            ]
           ],
           "sequentialminus": [
            [
             0,
             "#0d0887"
            ],
            [
             0.1111111111111111,
             "#46039f"
            ],
            [
             0.2222222222222222,
             "#7201a8"
            ],
            [
             0.3333333333333333,
             "#9c179e"
            ],
            [
             0.4444444444444444,
             "#bd3786"
            ],
            [
             0.5555555555555556,
             "#d8576b"
            ],
            [
             0.6666666666666666,
             "#ed7953"
            ],
            [
             0.7777777777777778,
             "#fb9f3a"
            ],
            [
             0.8888888888888888,
             "#fdca26"
            ],
            [
             1,
             "#f0f921"
            ]
           ]
          },
          "colorway": [
           "#636efa",
           "#EF553B",
           "#00cc96",
           "#ab63fa",
           "#FFA15A",
           "#19d3f3",
           "#FF6692",
           "#B6E880",
           "#FF97FF",
           "#FECB52"
          ],
          "font": {
           "color": "#2a3f5f"
          },
          "geo": {
           "bgcolor": "white",
           "lakecolor": "white",
           "landcolor": "#E5ECF6",
           "showlakes": true,
           "showland": true,
           "subunitcolor": "white"
          },
          "hoverlabel": {
           "align": "left"
          },
          "hovermode": "closest",
          "mapbox": {
           "style": "light"
          },
          "paper_bgcolor": "white",
          "plot_bgcolor": "#E5ECF6",
          "polar": {
           "angularaxis": {
            "gridcolor": "white",
            "linecolor": "white",
            "ticks": ""
           },
           "bgcolor": "#E5ECF6",
           "radialaxis": {
            "gridcolor": "white",
            "linecolor": "white",
            "ticks": ""
           }
          },
          "scene": {
           "xaxis": {
            "backgroundcolor": "#E5ECF6",
            "gridcolor": "white",
            "gridwidth": 2,
            "linecolor": "white",
            "showbackground": true,
            "ticks": "",
            "zerolinecolor": "white"
           },
           "yaxis": {
            "backgroundcolor": "#E5ECF6",
            "gridcolor": "white",
            "gridwidth": 2,
            "linecolor": "white",
            "showbackground": true,
            "ticks": "",
            "zerolinecolor": "white"
           },
           "zaxis": {
            "backgroundcolor": "#E5ECF6",
            "gridcolor": "white",
            "gridwidth": 2,
            "linecolor": "white",
            "showbackground": true,
            "ticks": "",
            "zerolinecolor": "white"
           }
          },
          "shapedefaults": {
           "line": {
            "color": "#2a3f5f"
           }
          },
          "ternary": {
           "aaxis": {
            "gridcolor": "white",
            "linecolor": "white",
            "ticks": ""
           },
           "baxis": {
            "gridcolor": "white",
            "linecolor": "white",
            "ticks": ""
           },
           "bgcolor": "#E5ECF6",
           "caxis": {
            "gridcolor": "white",
            "linecolor": "white",
            "ticks": ""
           }
          },
          "title": {
           "x": 0.05
          },
          "xaxis": {
           "automargin": true,
           "gridcolor": "white",
           "linecolor": "white",
           "ticks": "",
           "title": {
            "standoff": 15
           },
           "zerolinecolor": "white",
           "zerolinewidth": 2
          },
          "yaxis": {
           "automargin": true,
           "gridcolor": "white",
           "linecolor": "white",
           "ticks": "",
           "title": {
            "standoff": 15
           },
           "zerolinecolor": "white",
           "zerolinewidth": 2
          }
         }
        },
        "title": {
         "text": "Comparison between Reported and Observed Vitamin C Content, with Residuals"
        },
        "width": 800,
        "xaxis": {
         "anchor": "y",
         "domain": [
          0,
          1
         ],
         "title": {
          "text": "Observed Mass of Vitamin C per Sample Unit (mg or mL)"
         }
        },
        "yaxis": {
         "anchor": "x",
         "domain": [
          0,
          1
         ],
         "title": {
          "text": "Reported Mass of Vitamin C per Sample Unit (mg or mL)"
         }
        }
       }
      }
     },
     "metadata": {},
     "output_type": "display_data"
    }
   ],
   "source": [
    "x = (df[\"Mass Vitamin C (g) per Sample Unit\"] * 1000).to_list()\n",
    "y = (df[\"Reported Vitamin C (g) Per Sample Unit\"] * 1000).to_list()\n",
    "\n",
    "fig2 = px.scatter(\n",
    "    df,\n",
    "    x = x,\n",
    "    y = y,\n",
    ")\n",
    "\n",
    "fig2.add_shape(\n",
    "    type=\"line\",\n",
    "    x0=0,\n",
    "    y0=0,\n",
    "    x1=1,\n",
    "    y1=1,\n",
    "    line=dict(color=\"red\", width=2)\n",
    ")\n",
    "\n",
    "fig2.add_annotation(\n",
    "    x=0.475,  # Position the label at a high x-value\n",
    "    y=0.50,  # Match y=x at this point\n",
    "    text=\"y=x\",\n",
    "    showarrow=False,\n",
    "    font=dict(color=\"red\", size=12),\n",
    "    align=\"center\",\n",
    "    textangle=-40\n",
    ")\n",
    "\n",
    "# Calculate residuals and percent errors\n",
    "for xi, yi in zip(x, y):\n",
    "    # Residual = distance from y=x line\n",
    "    y_line = xi  # y value on the y=x line\n",
    "    residual = yi - y_line\n",
    "\n",
    "    if (-0.001 < residual < 0.001):\n",
    "        continue\n",
    "\n",
    "    # Add a line for the residual\n",
    "    fig2.add_shape(\n",
    "        type=\"line\",\n",
    "        x0=xi, y0=y_line,\n",
    "        x1=xi, y1=yi,\n",
    "        line=dict(color=\"red\", width=1, dash=\"dot\")\n",
    "    )\n",
    "\n",
    "    fig2.add_trace(\n",
    "        go.Scatter(\n",
    "            x=[xi],\n",
    "            y=[(yi + y_line) / 2],  # Position text midway along the residual\n",
    "            text=[f\"{residual:.3f}\"],\n",
    "            mode=\"text\",\n",
    "            textposition=\"middle right\",\n",
    "            textfont=dict(color=\"red\", size=10)\n",
    "        )\n",
    "    )\n",
    "\n",
    "fig2.update_layout(\n",
    "    title=\"Comparison between Reported and Observed Vitamin C Content, with Residuals\",\n",
    "    xaxis_title=\"Observed Mass of Vitamin C per Sample Unit (mg or mL)\",\n",
    "    yaxis_title=\"Reported Mass of Vitamin C per Sample Unit (mg or mL)\",\n",
    "    width=800,\n",
    "    height=600,\n",
    "    showlegend=False\n",
    ")\n",
    "fig2.show()"
   ]
  }
 ],
 "metadata": {
  "kernelspec": {
   "display_name": "base",
   "language": "python",
   "name": "python3"
  },
  "language_info": {
   "codemirror_mode": {
    "name": "ipython",
    "version": 3
   },
   "file_extension": ".py",
   "mimetype": "text/x-python",
   "name": "python",
   "nbconvert_exporter": "python",
   "pygments_lexer": "ipython3",
   "version": "3.11.5"
  }
 },
 "nbformat": 4,
 "nbformat_minor": 2
}
